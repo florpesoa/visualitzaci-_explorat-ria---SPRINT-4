{
 "cells": [
  {
   "cell_type": "markdown",
   "id": "cafb164f",
   "metadata": {},
   "source": [
    "# SPRINT 4\n"
   ]
  },
  {
   "cell_type": "markdown",
   "id": "e3afd7b5",
   "metadata": {},
   "source": [
    "**Descarrega el dataset adjunt preu lloguer per trimestre i barri.csv extret de la web OpenDataBCN i resumeix-lo estadísticament i gràficament.**"
   ]
  },
  {
   "cell_type": "code",
   "execution_count": 1,
   "id": "0c8ea3b6",
   "metadata": {},
   "outputs": [
    {
     "data": {
      "text/html": [
       "<div>\n",
       "<style scoped>\n",
       "    .dataframe tbody tr th:only-of-type {\n",
       "        vertical-align: middle;\n",
       "    }\n",
       "\n",
       "    .dataframe tbody tr th {\n",
       "        vertical-align: top;\n",
       "    }\n",
       "\n",
       "    .dataframe thead th {\n",
       "        text-align: right;\n",
       "    }\n",
       "</style>\n",
       "<table border=\"1\" class=\"dataframe\">\n",
       "  <thead>\n",
       "    <tr style=\"text-align: right;\">\n",
       "      <th></th>\n",
       "      <th>Any</th>\n",
       "      <th>Trimestre</th>\n",
       "      <th>Codi_Districte</th>\n",
       "      <th>Nom_Districte</th>\n",
       "      <th>Codi_Barri</th>\n",
       "      <th>Nom_Barri</th>\n",
       "      <th>Lloguer_mitja</th>\n",
       "      <th>Preu</th>\n",
       "    </tr>\n",
       "  </thead>\n",
       "  <tbody>\n",
       "    <tr>\n",
       "      <th>0</th>\n",
       "      <td>2021</td>\n",
       "      <td>1</td>\n",
       "      <td>1</td>\n",
       "      <td>Ciutat Vella</td>\n",
       "      <td>1</td>\n",
       "      <td>el Raval</td>\n",
       "      <td>Lloguer mitjà mensual (Euros/mes)</td>\n",
       "      <td>759.2</td>\n",
       "    </tr>\n",
       "    <tr>\n",
       "      <th>1</th>\n",
       "      <td>2021</td>\n",
       "      <td>1</td>\n",
       "      <td>1</td>\n",
       "      <td>Ciutat Vella</td>\n",
       "      <td>2</td>\n",
       "      <td>el Barri Gòtic</td>\n",
       "      <td>Lloguer mitjà mensual (Euros/mes)</td>\n",
       "      <td>929.6</td>\n",
       "    </tr>\n",
       "    <tr>\n",
       "      <th>2</th>\n",
       "      <td>2021</td>\n",
       "      <td>1</td>\n",
       "      <td>1</td>\n",
       "      <td>Ciutat Vella</td>\n",
       "      <td>3</td>\n",
       "      <td>la Barceloneta</td>\n",
       "      <td>Lloguer mitjà mensual (Euros/mes)</td>\n",
       "      <td>808.9</td>\n",
       "    </tr>\n",
       "    <tr>\n",
       "      <th>3</th>\n",
       "      <td>2021</td>\n",
       "      <td>1</td>\n",
       "      <td>1</td>\n",
       "      <td>Ciutat Vella</td>\n",
       "      <td>4</td>\n",
       "      <td>Sant Pere, Santa Caterina i la Ribera</td>\n",
       "      <td>Lloguer mitjà mensual (Euros/mes)</td>\n",
       "      <td>879.4</td>\n",
       "    </tr>\n",
       "    <tr>\n",
       "      <th>4</th>\n",
       "      <td>2021</td>\n",
       "      <td>1</td>\n",
       "      <td>2</td>\n",
       "      <td>Eixample</td>\n",
       "      <td>5</td>\n",
       "      <td>el Fort Pienc</td>\n",
       "      <td>Lloguer mitjà mensual (Euros/mes)</td>\n",
       "      <td>918.0</td>\n",
       "    </tr>\n",
       "    <tr>\n",
       "      <th>...</th>\n",
       "      <td>...</td>\n",
       "      <td>...</td>\n",
       "      <td>...</td>\n",
       "      <td>...</td>\n",
       "      <td>...</td>\n",
       "      <td>...</td>\n",
       "      <td>...</td>\n",
       "      <td>...</td>\n",
       "    </tr>\n",
       "    <tr>\n",
       "      <th>579</th>\n",
       "      <td>2021</td>\n",
       "      <td>4</td>\n",
       "      <td>10</td>\n",
       "      <td>Sant Martí</td>\n",
       "      <td>69</td>\n",
       "      <td>Diagonal Mar i el Front Marítim del Poblenou</td>\n",
       "      <td>Lloguer mitjà per superfície (Euros/m2 mes)</td>\n",
       "      <td>15.2</td>\n",
       "    </tr>\n",
       "    <tr>\n",
       "      <th>580</th>\n",
       "      <td>2021</td>\n",
       "      <td>4</td>\n",
       "      <td>10</td>\n",
       "      <td>Sant Martí</td>\n",
       "      <td>70</td>\n",
       "      <td>el Besòs i el Maresme</td>\n",
       "      <td>Lloguer mitjà per superfície (Euros/m2 mes)</td>\n",
       "      <td>10.8</td>\n",
       "    </tr>\n",
       "    <tr>\n",
       "      <th>581</th>\n",
       "      <td>2021</td>\n",
       "      <td>4</td>\n",
       "      <td>10</td>\n",
       "      <td>Sant Martí</td>\n",
       "      <td>71</td>\n",
       "      <td>Provençals del Poblenou</td>\n",
       "      <td>Lloguer mitjà per superfície (Euros/m2 mes)</td>\n",
       "      <td>13.8</td>\n",
       "    </tr>\n",
       "    <tr>\n",
       "      <th>582</th>\n",
       "      <td>2021</td>\n",
       "      <td>4</td>\n",
       "      <td>10</td>\n",
       "      <td>Sant Martí</td>\n",
       "      <td>72</td>\n",
       "      <td>Sant Martí de Provençals</td>\n",
       "      <td>Lloguer mitjà per superfície (Euros/m2 mes)</td>\n",
       "      <td>11.7</td>\n",
       "    </tr>\n",
       "    <tr>\n",
       "      <th>583</th>\n",
       "      <td>2021</td>\n",
       "      <td>4</td>\n",
       "      <td>10</td>\n",
       "      <td>Sant Martí</td>\n",
       "      <td>73</td>\n",
       "      <td>la Verneda i la Pau</td>\n",
       "      <td>Lloguer mitjà per superfície (Euros/m2 mes)</td>\n",
       "      <td>11.3</td>\n",
       "    </tr>\n",
       "  </tbody>\n",
       "</table>\n",
       "<p>584 rows × 8 columns</p>\n",
       "</div>"
      ],
      "text/plain": [
       "      Any  Trimestre  Codi_Districte Nom_Districte  Codi_Barri  \\\n",
       "0    2021          1               1  Ciutat Vella           1   \n",
       "1    2021          1               1  Ciutat Vella           2   \n",
       "2    2021          1               1  Ciutat Vella           3   \n",
       "3    2021          1               1  Ciutat Vella           4   \n",
       "4    2021          1               2      Eixample           5   \n",
       "..    ...        ...             ...           ...         ...   \n",
       "579  2021          4              10    Sant Martí          69   \n",
       "580  2021          4              10    Sant Martí          70   \n",
       "581  2021          4              10    Sant Martí          71   \n",
       "582  2021          4              10    Sant Martí          72   \n",
       "583  2021          4              10    Sant Martí          73   \n",
       "\n",
       "                                        Nom_Barri  \\\n",
       "0                                        el Raval   \n",
       "1                                  el Barri Gòtic   \n",
       "2                                  la Barceloneta   \n",
       "3           Sant Pere, Santa Caterina i la Ribera   \n",
       "4                                   el Fort Pienc   \n",
       "..                                            ...   \n",
       "579  Diagonal Mar i el Front Marítim del Poblenou   \n",
       "580                         el Besòs i el Maresme   \n",
       "581                       Provençals del Poblenou   \n",
       "582                      Sant Martí de Provençals   \n",
       "583                           la Verneda i la Pau   \n",
       "\n",
       "                                   Lloguer_mitja   Preu  \n",
       "0              Lloguer mitjà mensual (Euros/mes)  759.2  \n",
       "1              Lloguer mitjà mensual (Euros/mes)  929.6  \n",
       "2              Lloguer mitjà mensual (Euros/mes)  808.9  \n",
       "3              Lloguer mitjà mensual (Euros/mes)  879.4  \n",
       "4              Lloguer mitjà mensual (Euros/mes)  918.0  \n",
       "..                                           ...    ...  \n",
       "579  Lloguer mitjà per superfície (Euros/m2 mes)   15.2  \n",
       "580  Lloguer mitjà per superfície (Euros/m2 mes)   10.8  \n",
       "581  Lloguer mitjà per superfície (Euros/m2 mes)   13.8  \n",
       "582  Lloguer mitjà per superfície (Euros/m2 mes)   11.7  \n",
       "583  Lloguer mitjà per superfície (Euros/m2 mes)   11.3  \n",
       "\n",
       "[584 rows x 8 columns]"
      ]
     },
     "execution_count": 1,
     "metadata": {},
     "output_type": "execute_result"
    }
   ],
   "source": [
    "import pandas as pd \n",
    "import numpy as np\n",
    "import statistics\n",
    "\n",
    "\n",
    "df=pd.read_csv('C:/Users/flore/Desktop/DS/Sprint 4/preu lloguer per trimestre i barri.csv')\n",
    "df"
   ]
  },
  {
   "cell_type": "markdown",
   "id": "f3d936c1",
   "metadata": {},
   "source": [
    "**Crea almenys una visualització per:**\n"
   ]
  },
  {
   "cell_type": "markdown",
   "id": "a3081340",
   "metadata": {},
   "source": [
    "Al observar los valores de precio medio de la vivienda podemos ver como estos valores se han dado de 2 formas: en valor total del alquiler por mes o el valor de los m2 del piso por mes. \n",
    "Pero como no tenemos ni el dato de los metros cuadrados de los pisos que si tenemos el valor total del alquiler mensual, ni los metros cuadrados totales de los pisos que tenemos los valores de los m2 por mes, no podemos obtener una media del listado completo de valores.\n",
    "Por lo que debemos hacer una selección por separado de cada uno de estos datos.\n"
   ]
  },
  {
   "cell_type": "markdown",
   "id": "c5b15355",
   "metadata": {},
   "source": [
    "Otro paso a hacer es eliminar los datos que no presentan valor en el precio de la vivienda, decidimos eliminarlos ya que el dato central de la tabla es ese y al no tenerlo, es mejor limpiarlo de la misma."
   ]
  },
  {
   "cell_type": "code",
   "execution_count": 2,
   "id": "9b1f2466",
   "metadata": {},
   "outputs": [
    {
     "data": {
      "text/html": [
       "<div>\n",
       "<style scoped>\n",
       "    .dataframe tbody tr th:only-of-type {\n",
       "        vertical-align: middle;\n",
       "    }\n",
       "\n",
       "    .dataframe tbody tr th {\n",
       "        vertical-align: top;\n",
       "    }\n",
       "\n",
       "    .dataframe thead th {\n",
       "        text-align: right;\n",
       "    }\n",
       "</style>\n",
       "<table border=\"1\" class=\"dataframe\">\n",
       "  <thead>\n",
       "    <tr style=\"text-align: right;\">\n",
       "      <th></th>\n",
       "      <th>Any</th>\n",
       "      <th>Trimestre</th>\n",
       "      <th>Codi_Districte</th>\n",
       "      <th>Nom_Districte</th>\n",
       "      <th>Codi_Barri</th>\n",
       "      <th>Nom_Barri</th>\n",
       "      <th>Lloguer_mitja</th>\n",
       "      <th>Preu</th>\n",
       "    </tr>\n",
       "  </thead>\n",
       "  <tbody>\n",
       "    <tr>\n",
       "      <th>0</th>\n",
       "      <td>2021</td>\n",
       "      <td>1</td>\n",
       "      <td>1</td>\n",
       "      <td>Ciutat Vella</td>\n",
       "      <td>1</td>\n",
       "      <td>el Raval</td>\n",
       "      <td>Lloguer mitjà mensual (Euros/mes)</td>\n",
       "      <td>759.2</td>\n",
       "    </tr>\n",
       "    <tr>\n",
       "      <th>1</th>\n",
       "      <td>2021</td>\n",
       "      <td>1</td>\n",
       "      <td>1</td>\n",
       "      <td>Ciutat Vella</td>\n",
       "      <td>2</td>\n",
       "      <td>el Barri Gòtic</td>\n",
       "      <td>Lloguer mitjà mensual (Euros/mes)</td>\n",
       "      <td>929.6</td>\n",
       "    </tr>\n",
       "    <tr>\n",
       "      <th>2</th>\n",
       "      <td>2021</td>\n",
       "      <td>1</td>\n",
       "      <td>1</td>\n",
       "      <td>Ciutat Vella</td>\n",
       "      <td>3</td>\n",
       "      <td>la Barceloneta</td>\n",
       "      <td>Lloguer mitjà mensual (Euros/mes)</td>\n",
       "      <td>808.9</td>\n",
       "    </tr>\n",
       "    <tr>\n",
       "      <th>3</th>\n",
       "      <td>2021</td>\n",
       "      <td>1</td>\n",
       "      <td>1</td>\n",
       "      <td>Ciutat Vella</td>\n",
       "      <td>4</td>\n",
       "      <td>Sant Pere, Santa Caterina i la Ribera</td>\n",
       "      <td>Lloguer mitjà mensual (Euros/mes)</td>\n",
       "      <td>879.4</td>\n",
       "    </tr>\n",
       "    <tr>\n",
       "      <th>4</th>\n",
       "      <td>2021</td>\n",
       "      <td>1</td>\n",
       "      <td>2</td>\n",
       "      <td>Eixample</td>\n",
       "      <td>5</td>\n",
       "      <td>el Fort Pienc</td>\n",
       "      <td>Lloguer mitjà mensual (Euros/mes)</td>\n",
       "      <td>918.0</td>\n",
       "    </tr>\n",
       "    <tr>\n",
       "      <th>...</th>\n",
       "      <td>...</td>\n",
       "      <td>...</td>\n",
       "      <td>...</td>\n",
       "      <td>...</td>\n",
       "      <td>...</td>\n",
       "      <td>...</td>\n",
       "      <td>...</td>\n",
       "      <td>...</td>\n",
       "    </tr>\n",
       "    <tr>\n",
       "      <th>579</th>\n",
       "      <td>2021</td>\n",
       "      <td>4</td>\n",
       "      <td>10</td>\n",
       "      <td>Sant Martí</td>\n",
       "      <td>69</td>\n",
       "      <td>Diagonal Mar i el Front Marítim del Poblenou</td>\n",
       "      <td>Lloguer mitjà per superfície (Euros/m2 mes)</td>\n",
       "      <td>15.2</td>\n",
       "    </tr>\n",
       "    <tr>\n",
       "      <th>580</th>\n",
       "      <td>2021</td>\n",
       "      <td>4</td>\n",
       "      <td>10</td>\n",
       "      <td>Sant Martí</td>\n",
       "      <td>70</td>\n",
       "      <td>el Besòs i el Maresme</td>\n",
       "      <td>Lloguer mitjà per superfície (Euros/m2 mes)</td>\n",
       "      <td>10.8</td>\n",
       "    </tr>\n",
       "    <tr>\n",
       "      <th>581</th>\n",
       "      <td>2021</td>\n",
       "      <td>4</td>\n",
       "      <td>10</td>\n",
       "      <td>Sant Martí</td>\n",
       "      <td>71</td>\n",
       "      <td>Provençals del Poblenou</td>\n",
       "      <td>Lloguer mitjà per superfície (Euros/m2 mes)</td>\n",
       "      <td>13.8</td>\n",
       "    </tr>\n",
       "    <tr>\n",
       "      <th>582</th>\n",
       "      <td>2021</td>\n",
       "      <td>4</td>\n",
       "      <td>10</td>\n",
       "      <td>Sant Martí</td>\n",
       "      <td>72</td>\n",
       "      <td>Sant Martí de Provençals</td>\n",
       "      <td>Lloguer mitjà per superfície (Euros/m2 mes)</td>\n",
       "      <td>11.7</td>\n",
       "    </tr>\n",
       "    <tr>\n",
       "      <th>583</th>\n",
       "      <td>2021</td>\n",
       "      <td>4</td>\n",
       "      <td>10</td>\n",
       "      <td>Sant Martí</td>\n",
       "      <td>73</td>\n",
       "      <td>la Verneda i la Pau</td>\n",
       "      <td>Lloguer mitjà per superfície (Euros/m2 mes)</td>\n",
       "      <td>11.3</td>\n",
       "    </tr>\n",
       "  </tbody>\n",
       "</table>\n",
       "<p>540 rows × 8 columns</p>\n",
       "</div>"
      ],
      "text/plain": [
       "      Any  Trimestre  Codi_Districte Nom_Districte  Codi_Barri  \\\n",
       "0    2021          1               1  Ciutat Vella           1   \n",
       "1    2021          1               1  Ciutat Vella           2   \n",
       "2    2021          1               1  Ciutat Vella           3   \n",
       "3    2021          1               1  Ciutat Vella           4   \n",
       "4    2021          1               2      Eixample           5   \n",
       "..    ...        ...             ...           ...         ...   \n",
       "579  2021          4              10    Sant Martí          69   \n",
       "580  2021          4              10    Sant Martí          70   \n",
       "581  2021          4              10    Sant Martí          71   \n",
       "582  2021          4              10    Sant Martí          72   \n",
       "583  2021          4              10    Sant Martí          73   \n",
       "\n",
       "                                        Nom_Barri  \\\n",
       "0                                        el Raval   \n",
       "1                                  el Barri Gòtic   \n",
       "2                                  la Barceloneta   \n",
       "3           Sant Pere, Santa Caterina i la Ribera   \n",
       "4                                   el Fort Pienc   \n",
       "..                                            ...   \n",
       "579  Diagonal Mar i el Front Marítim del Poblenou   \n",
       "580                         el Besòs i el Maresme   \n",
       "581                       Provençals del Poblenou   \n",
       "582                      Sant Martí de Provençals   \n",
       "583                           la Verneda i la Pau   \n",
       "\n",
       "                                   Lloguer_mitja   Preu  \n",
       "0              Lloguer mitjà mensual (Euros/mes)  759.2  \n",
       "1              Lloguer mitjà mensual (Euros/mes)  929.6  \n",
       "2              Lloguer mitjà mensual (Euros/mes)  808.9  \n",
       "3              Lloguer mitjà mensual (Euros/mes)  879.4  \n",
       "4              Lloguer mitjà mensual (Euros/mes)  918.0  \n",
       "..                                           ...    ...  \n",
       "579  Lloguer mitjà per superfície (Euros/m2 mes)   15.2  \n",
       "580  Lloguer mitjà per superfície (Euros/m2 mes)   10.8  \n",
       "581  Lloguer mitjà per superfície (Euros/m2 mes)   13.8  \n",
       "582  Lloguer mitjà per superfície (Euros/m2 mes)   11.7  \n",
       "583  Lloguer mitjà per superfície (Euros/m2 mes)   11.3  \n",
       "\n",
       "[540 rows x 8 columns]"
      ]
     },
     "execution_count": 2,
     "metadata": {},
     "output_type": "execute_result"
    }
   ],
   "source": [
    "df = df.drop(df[df['Preu']=='--'].index)\n",
    "df"
   ]
  },
  {
   "cell_type": "markdown",
   "id": "62f79089",
   "metadata": {},
   "source": [
    "**- Una variable categòrica (Districte o Barri)**: Cantidad de datos por Distrito\n"
   ]
  },
  {
   "cell_type": "code",
   "execution_count": 58,
   "id": "d463a24c",
   "metadata": {},
   "outputs": [
    {
     "data": {
      "image/png": "[encoded data removed]",
      "text/plain": [
       "<Figure size 432x288 with 1 Axes>"
      ]
     },
     "metadata": {
      "needs_background": "light"
     },
     "output_type": "display_data"
    }
   ],
   "source": [
    "import matplotlib.pyplot as plt\n",
    "cant_distrito=df.groupby(['Nom_Districte'])['Nom_Districte'].count().plot(kind='bar')\n",
    "cant_distrito\n",
    "plt.savefig(\"cant_distrito.jpg\")"
   ]
  },
  {
   "cell_type": "markdown",
   "id": "f97b97c5",
   "metadata": {},
   "source": [
    "**- Una variable numèrica (Preu)**: Cantidad de valores por la variable"
   ]
  },
  {
   "cell_type": "markdown",
   "id": "3fd69bc3",
   "metadata": {},
   "source": [
    "No podemos graficar el precio ya que como podemos comprobar es una variable de tipo objeto.\n",
    "Por lo tanto, la pasaremos a una variable de tipo numérica"
   ]
  },
  {
   "cell_type": "code",
   "execution_count": 4,
   "id": "d3b8b4b8",
   "metadata": {},
   "outputs": [
    {
     "data": {
      "text/plain": [
       "Any                 int64\n",
       "Trimestre           int64\n",
       "Codi_Districte      int64\n",
       "Nom_Districte      object\n",
       "Codi_Barri          int64\n",
       "Nom_Barri          object\n",
       "Lloguer_mitja      object\n",
       "Preu              float64\n",
       "dtype: object"
      ]
     },
     "execution_count": 4,
     "metadata": {},
     "output_type": "execute_result"
    }
   ],
   "source": [
    "df['Preu'] = df['Preu'].astype('float64')\n",
    "df.dtypes"
   ]
  },
  {
   "cell_type": "markdown",
   "id": "7154204b",
   "metadata": {},
   "source": [
    "Ahora si, procedemos a realizar la gráfica, utilizando los valores de alquiler medio mensual (Euros/mes):"
   ]
  },
  {
   "cell_type": "code",
   "execution_count": 29,
   "id": "c3c7b843",
   "metadata": {},
   "outputs": [
    {
     "data": {
      "text/html": [
       "<div>\n",
       "<style scoped>\n",
       "    .dataframe tbody tr th:only-of-type {\n",
       "        vertical-align: middle;\n",
       "    }\n",
       "\n",
       "    .dataframe tbody tr th {\n",
       "        vertical-align: top;\n",
       "    }\n",
       "\n",
       "    .dataframe thead th {\n",
       "        text-align: right;\n",
       "    }\n",
       "</style>\n",
       "<table border=\"1\" class=\"dataframe\">\n",
       "  <thead>\n",
       "    <tr style=\"text-align: right;\">\n",
       "      <th></th>\n",
       "      <th>Any</th>\n",
       "      <th>Trimestre</th>\n",
       "      <th>Codi_Districte</th>\n",
       "      <th>Nom_Districte</th>\n",
       "      <th>Codi_Barri</th>\n",
       "      <th>Nom_Barri</th>\n",
       "      <th>Lloguer_mitja</th>\n",
       "      <th>Preu</th>\n",
       "    </tr>\n",
       "  </thead>\n",
       "  <tbody>\n",
       "    <tr>\n",
       "      <th>0</th>\n",
       "      <td>2021</td>\n",
       "      <td>1</td>\n",
       "      <td>1</td>\n",
       "      <td>Ciutat Vella</td>\n",
       "      <td>1</td>\n",
       "      <td>el Raval</td>\n",
       "      <td>Lloguer mitjà mensual (Euros/mes)</td>\n",
       "      <td>759.2</td>\n",
       "    </tr>\n",
       "    <tr>\n",
       "      <th>1</th>\n",
       "      <td>2021</td>\n",
       "      <td>1</td>\n",
       "      <td>1</td>\n",
       "      <td>Ciutat Vella</td>\n",
       "      <td>2</td>\n",
       "      <td>el Barri Gòtic</td>\n",
       "      <td>Lloguer mitjà mensual (Euros/mes)</td>\n",
       "      <td>929.6</td>\n",
       "    </tr>\n",
       "    <tr>\n",
       "      <th>2</th>\n",
       "      <td>2021</td>\n",
       "      <td>1</td>\n",
       "      <td>1</td>\n",
       "      <td>Ciutat Vella</td>\n",
       "      <td>3</td>\n",
       "      <td>la Barceloneta</td>\n",
       "      <td>Lloguer mitjà mensual (Euros/mes)</td>\n",
       "      <td>808.9</td>\n",
       "    </tr>\n",
       "    <tr>\n",
       "      <th>3</th>\n",
       "      <td>2021</td>\n",
       "      <td>1</td>\n",
       "      <td>1</td>\n",
       "      <td>Ciutat Vella</td>\n",
       "      <td>4</td>\n",
       "      <td>Sant Pere, Santa Caterina i la Ribera</td>\n",
       "      <td>Lloguer mitjà mensual (Euros/mes)</td>\n",
       "      <td>879.4</td>\n",
       "    </tr>\n",
       "    <tr>\n",
       "      <th>4</th>\n",
       "      <td>2021</td>\n",
       "      <td>1</td>\n",
       "      <td>2</td>\n",
       "      <td>Eixample</td>\n",
       "      <td>5</td>\n",
       "      <td>el Fort Pienc</td>\n",
       "      <td>Lloguer mitjà mensual (Euros/mes)</td>\n",
       "      <td>918.0</td>\n",
       "    </tr>\n",
       "    <tr>\n",
       "      <th>...</th>\n",
       "      <td>...</td>\n",
       "      <td>...</td>\n",
       "      <td>...</td>\n",
       "      <td>...</td>\n",
       "      <td>...</td>\n",
       "      <td>...</td>\n",
       "      <td>...</td>\n",
       "      <td>...</td>\n",
       "    </tr>\n",
       "    <tr>\n",
       "      <th>506</th>\n",
       "      <td>2021</td>\n",
       "      <td>4</td>\n",
       "      <td>10</td>\n",
       "      <td>Sant Martí</td>\n",
       "      <td>69</td>\n",
       "      <td>Diagonal Mar i el Front Marítim del Poblenou</td>\n",
       "      <td>Lloguer mitjà mensual (Euros/mes)</td>\n",
       "      <td>1205.3</td>\n",
       "    </tr>\n",
       "    <tr>\n",
       "      <th>507</th>\n",
       "      <td>2021</td>\n",
       "      <td>4</td>\n",
       "      <td>10</td>\n",
       "      <td>Sant Martí</td>\n",
       "      <td>70</td>\n",
       "      <td>el Besòs i el Maresme</td>\n",
       "      <td>Lloguer mitjà mensual (Euros/mes)</td>\n",
       "      <td>700.5</td>\n",
       "    </tr>\n",
       "    <tr>\n",
       "      <th>508</th>\n",
       "      <td>2021</td>\n",
       "      <td>4</td>\n",
       "      <td>10</td>\n",
       "      <td>Sant Martí</td>\n",
       "      <td>71</td>\n",
       "      <td>Provençals del Poblenou</td>\n",
       "      <td>Lloguer mitjà mensual (Euros/mes)</td>\n",
       "      <td>977.8</td>\n",
       "    </tr>\n",
       "    <tr>\n",
       "      <th>509</th>\n",
       "      <td>2021</td>\n",
       "      <td>4</td>\n",
       "      <td>10</td>\n",
       "      <td>Sant Martí</td>\n",
       "      <td>72</td>\n",
       "      <td>Sant Martí de Provençals</td>\n",
       "      <td>Lloguer mitjà mensual (Euros/mes)</td>\n",
       "      <td>826.2</td>\n",
       "    </tr>\n",
       "    <tr>\n",
       "      <th>510</th>\n",
       "      <td>2021</td>\n",
       "      <td>4</td>\n",
       "      <td>10</td>\n",
       "      <td>Sant Martí</td>\n",
       "      <td>73</td>\n",
       "      <td>la Verneda i la Pau</td>\n",
       "      <td>Lloguer mitjà mensual (Euros/mes)</td>\n",
       "      <td>752.0</td>\n",
       "    </tr>\n",
       "  </tbody>\n",
       "</table>\n",
       "<p>270 rows × 8 columns</p>\n",
       "</div>"
      ],
      "text/plain": [
       "      Any  Trimestre  Codi_Districte Nom_Districte  Codi_Barri  \\\n",
       "0    2021          1               1  Ciutat Vella           1   \n",
       "1    2021          1               1  Ciutat Vella           2   \n",
       "2    2021          1               1  Ciutat Vella           3   \n",
       "3    2021          1               1  Ciutat Vella           4   \n",
       "4    2021          1               2      Eixample           5   \n",
       "..    ...        ...             ...           ...         ...   \n",
       "506  2021          4              10    Sant Martí          69   \n",
       "507  2021          4              10    Sant Martí          70   \n",
       "508  2021          4              10    Sant Martí          71   \n",
       "509  2021          4              10    Sant Martí          72   \n",
       "510  2021          4              10    Sant Martí          73   \n",
       "\n",
       "                                        Nom_Barri  \\\n",
       "0                                        el Raval   \n",
       "1                                  el Barri Gòtic   \n",
       "2                                  la Barceloneta   \n",
       "3           Sant Pere, Santa Caterina i la Ribera   \n",
       "4                                   el Fort Pienc   \n",
       "..                                            ...   \n",
       "506  Diagonal Mar i el Front Marítim del Poblenou   \n",
       "507                         el Besòs i el Maresme   \n",
       "508                       Provençals del Poblenou   \n",
       "509                      Sant Martí de Provençals   \n",
       "510                           la Verneda i la Pau   \n",
       "\n",
       "                         Lloguer_mitja    Preu  \n",
       "0    Lloguer mitjà mensual (Euros/mes)   759.2  \n",
       "1    Lloguer mitjà mensual (Euros/mes)   929.6  \n",
       "2    Lloguer mitjà mensual (Euros/mes)   808.9  \n",
       "3    Lloguer mitjà mensual (Euros/mes)   879.4  \n",
       "4    Lloguer mitjà mensual (Euros/mes)   918.0  \n",
       "..                                 ...     ...  \n",
       "506  Lloguer mitjà mensual (Euros/mes)  1205.3  \n",
       "507  Lloguer mitjà mensual (Euros/mes)   700.5  \n",
       "508  Lloguer mitjà mensual (Euros/mes)   977.8  \n",
       "509  Lloguer mitjà mensual (Euros/mes)   826.2  \n",
       "510  Lloguer mitjà mensual (Euros/mes)   752.0  \n",
       "\n",
       "[270 rows x 8 columns]"
      ]
     },
     "execution_count": 29,
     "metadata": {},
     "output_type": "execute_result"
    }
   ],
   "source": [
    "#barris_preu=df[(df['Lloguer_mitja']=='Lloguer mitjà mensual (Euros/mes)')].groupby(['Preu'])['Preu'].count().plot(kind='hist')\n",
    "precio_mensual=df.loc[df.Lloguer_mitja=='Lloguer mitjà mensual (Euros/mes)']\n",
    "precio_mensual\n"
   ]
  },
  {
   "cell_type": "code",
   "execution_count": 56,
   "id": "b50f9fa8",
   "metadata": {},
   "outputs": [
    {
     "data": {
      "image/png": "[encoded data removed]",
      "text/plain": [
       "<Figure size 432x288 with 1 Axes>"
      ]
     },
     "metadata": {
      "needs_background": "light"
     },
     "output_type": "display_data"
    },
    {
     "data": {
      "text/plain": [
       "<Figure size 432x288 with 0 Axes>"
      ]
     },
     "metadata": {},
     "output_type": "display_data"
    }
   ],
   "source": [
    "plt.hist(x=precio_mensual.Preu, color='#F2AB6D', rwidth=0.90)\n",
    "plt.title('Histograma precios mensuales')\n",
    "plt.xlabel('Euros')\n",
    "plt.ylabel('Cantidad de registros')\n",
    "\n",
    "plt.show() #dibujamos el histograma\n",
    "plt.savefig(\"valores_precio.jpg\")"
   ]
  },
  {
   "cell_type": "markdown",
   "id": "f935908c",
   "metadata": {},
   "source": [
    "Como podemos observar, la mayoría de los registros se encuentran en los 800 Euros/mes"
   ]
  },
  {
   "cell_type": "markdown",
   "id": "6d35a615",
   "metadata": {},
   "source": [
    "**- Una variable numèrica i una categòrica (Districte i Preu):** El valor más caro por distrito en cada trimestre"
   ]
  },
  {
   "cell_type": "code",
   "execution_count": 55,
   "id": "e3d3c9c6",
   "metadata": {},
   "outputs": [
    {
     "data": {
      "image/png": "[encoded data removed]",
      "text/plain": [
       "<Figure size 432x288 with 1 Axes>"
      ]
     },
     "metadata": {
      "needs_background": "light"
     },
     "output_type": "display_data"
    }
   ],
   "source": [
    "mas_caro=df[df['Lloguer_mitja']=='Lloguer mitjà mensual (Euros/mes)'].groupby(['Nom_Districte'])['Preu'].max().plot(kind='bar')\n",
    "plt.title('Precio Máximo Mensual - Todos los trimestres')\n",
    "plt.xlabel('Distrito')\n",
    "plt.ylabel('Euros')\n",
    "mas_caro\n",
    "plt.savefig(\"mas_caro.jpg\")"
   ]
  },
  {
   "cell_type": "markdown",
   "id": "dc44f0e9",
   "metadata": {},
   "source": [
    "**- Dues variables numèriques (Any o Trimestre i Preu):**"
   ]
  },
  {
   "cell_type": "markdown",
   "id": "9e2e2dcf",
   "metadata": {},
   "source": [
    "Optamos por realizar cálculos por trimestres. Para ello, definimos primero 4 nuevos DF para ver por separado el comportamiento de cada trimestre por distrito y poder tenerlo más ordenado si luego queremos trabajar con éstas variantes."
   ]
  },
  {
   "cell_type": "code",
   "execution_count": 10,
   "id": "f8db9686",
   "metadata": {},
   "outputs": [],
   "source": [
    "trimestre1=df[df['Trimestre']==1]\n",
    "trimestre2=df[df['Trimestre']==2]\n",
    "trimestre3=df[df['Trimestre']==3]\n",
    "trimestre4=df[df['Trimestre']==4]"
   ]
  },
  {
   "cell_type": "markdown",
   "id": "ed9c38f2",
   "metadata": {},
   "source": [
    "Luego para cada uno de los trimestres sacamos la media trimestral por distrito, utilizando el valor mensual del alquiler (euros/mes):"
   ]
  },
  {
   "cell_type": "markdown",
   "id": "48894117",
   "metadata": {},
   "source": [
    "- Para el primer trimestre:"
   ]
  },
  {
   "cell_type": "code",
   "execution_count": 54,
   "id": "8ec29ad5",
   "metadata": {},
   "outputs": [
    {
     "data": {
      "image/png": "[encoded data removed]",
      "text/plain": [
       "<Figure size 432x288 with 1 Axes>"
      ]
     },
     "metadata": {
      "needs_background": "light"
     },
     "output_type": "display_data"
    }
   ],
   "source": [
    "#http://pyciencia.blogspot.com/2015/05/obtener-y-filtrar-datos-de-un-dataframe.html\n",
    "media_1t=df[(df['Lloguer_mitja']=='Lloguer mitjà mensual (Euros/mes)') & (df['Trimestre']==1)].groupby(['Nom_Districte'])['Preu'].mean().plot(kind='bar')\n",
    "plt.title('Precio Medio Mensual - 1er Trimestre')\n",
    "plt.xlabel('Distrito')\n",
    "plt.ylabel('Euros')\n",
    "media_1t\n",
    "plt.savefig(\"1erTrimestre.jpg\")"
   ]
  },
  {
   "cell_type": "markdown",
   "id": "0047eb11",
   "metadata": {},
   "source": [
    "- Para el segundo trimestre:"
   ]
  },
  {
   "cell_type": "code",
   "execution_count": 53,
   "id": "e7c3d8ad",
   "metadata": {},
   "outputs": [
    {
     "data": {
      "image/png": "[encoded data removed]",
      "text/plain": [
       "<Figure size 432x288 with 1 Axes>"
      ]
     },
     "metadata": {
      "needs_background": "light"
     },
     "output_type": "display_data"
    }
   ],
   "source": [
    "media_2t=df[(df['Lloguer_mitja']=='Lloguer mitjà mensual (Euros/mes)') & (df['Trimestre']==2)].groupby(['Nom_Districte'])['Preu'].mean().plot(kind='bar')\n",
    "plt.title('Precio Medio Mensual - 2er Trimestre')\n",
    "plt.xlabel('Distrito')\n",
    "plt.ylabel('Euros')\n",
    "media_2t\n",
    "plt.savefig(\"2doTrimestre.jpg\")"
   ]
  },
  {
   "cell_type": "markdown",
   "id": "a847e2fe",
   "metadata": {},
   "source": [
    "- Para el tercer trimestre:"
   ]
  },
  {
   "cell_type": "code",
   "execution_count": 51,
   "id": "762d3e98",
   "metadata": {},
   "outputs": [
    {
     "data": {
      "image/png": "[encoded data removed]",
      "text/plain": [
       "<Figure size 432x288 with 1 Axes>"
      ]
     },
     "metadata": {
      "needs_background": "light"
     },
     "output_type": "display_data"
    }
   ],
   "source": [
    "media_3t=df[(df['Lloguer_mitja']=='Lloguer mitjà mensual (Euros/mes)') & (df['Trimestre']==3)].groupby(['Nom_Districte'])['Preu'].mean().plot(kind='bar')\n",
    "plt.title('Precio Medio Mensual - 3er Trimestre')\n",
    "plt.xlabel('Distrito')\n",
    "plt.ylabel('Euros')\n",
    "media_3t\n",
    "plt.savefig(\"3erTrimestre.jpg\")"
   ]
  },
  {
   "cell_type": "markdown",
   "id": "52b25a4c",
   "metadata": {},
   "source": [
    "- Para el cuarto trimestre: "
   ]
  },
  {
   "cell_type": "code",
   "execution_count": 50,
   "id": "03c54096",
   "metadata": {},
   "outputs": [
    {
     "data": {
      "image/png": "[encoded data removed]",
      "text/plain": [
       "<Figure size 432x288 with 1 Axes>"
      ]
     },
     "metadata": {
      "needs_background": "light"
     },
     "output_type": "display_data"
    }
   ],
   "source": [
    "media_4t=df[(df['Lloguer_mitja']=='Lloguer mitjà mensual (Euros/mes)') & (df['Trimestre']==4)].groupby(['Nom_Districte'])['Preu'].mean().plot(kind='bar')\n",
    "plt.title('Precio Medio Mensual - 4to Trimestre')\n",
    "plt.xlabel('Distrito')\n",
    "plt.ylabel('Euros')\n",
    "media_4t\n",
    "plt.savefig(\"4toTrimestre.jpg\")"
   ]
  },
  {
   "cell_type": "markdown",
   "id": "3c760372",
   "metadata": {},
   "source": [
    "**- Tres variables (Barri o Districte, Trimestre i Preu):** A partir de los valores máximos de alquiler por distrito y por trimestre, graficamos para ver como va  evolucionando su valor por trimestre, si disminuye, aumenta o se mantiene."
   ]
  },
  {
   "cell_type": "code",
   "execution_count": 45,
   "id": "f9908fb6",
   "metadata": {},
   "outputs": [
    {
     "data": {
      "image/png": "[encoded data removed]",
      "text/plain": [
       "<Figure size 2880x1440 with 1 Axes>"
      ]
     },
     "metadata": {
      "needs_background": "light"
     },
     "output_type": "display_data"
    }
   ],
   "source": [
    "tres_variables=df[df['Lloguer_mitja']=='Lloguer mitjà mensual (Euros/mes)'].groupby(['Trimestre','Nom_Districte'])['Preu'].mean().unstack().plot(kind='bar', figsize=(40, 20))\n",
    "tres_variables\n",
    "plt.title('Precio Medio por Distrito y Trimestre')\n",
    "plt.xlabel('Trimestres')\n",
    "plt.ylabel('Euros')\n",
    "plt.savefig(\"Trimestre_por_distrito.jpg\")\n",
    "\n",
    "\n",
    "#ver como hacer para exportar la imagen más grande y que se vea mejor"
   ]
  },
  {
   "cell_type": "markdown",
   "id": "898aedfb",
   "metadata": {},
   "source": [
    "Podemos ver como Les Corts y Sarriá son los distritos con los valores más altos de alquileres, ambos sufren variaciones por trimestre.\n",
    "En el caso de Les Corts hay una pequeña baja en el segundo y tercer trimestre a diferencia de Sarriá que encuentra su punto más alto en el tercer trimestre."
   ]
  },
  {
   "cell_type": "markdown",
   "id": "4ab14ff0",
   "metadata": {},
   "source": [
    "## **Visualización interesante** ##\n"
   ]
  },
  {
   "cell_type": "markdown",
   "id": "75e632e5",
   "metadata": {},
   "source": [
    "Consideramos que la comparación entre trimestres por separado, y luego la comparación general de trimestres, son las gráficos que nos darán las mejores conclusiones generales de nuestra tabla. \n",
    "Sin embargo, también podríamos realizar algún estudio con un distrito en particular, como por ejemplo una comparación de precios dentro de los barrios de Ciutat Vella:\n"
   ]
  },
  {
   "cell_type": "code",
   "execution_count": 61,
   "id": "e7a52d46",
   "metadata": {},
   "outputs": [
    {
     "data": {
      "image/png": "[encoded data removed]",
      "text/plain": [
       "<Figure size 432x288 with 1 Axes>"
      ]
     },
     "metadata": {
      "needs_background": "light"
     },
     "output_type": "display_data"
    }
   ],
   "source": [
    "ciutat_vella=df[(df['Lloguer_mitja']=='Lloguer mitjà mensual (Euros/mes)') & (df['Nom_Districte']=='Ciutat Vella')].groupby(['Nom_Barri'])['Preu'].mean().plot(kind='bar')\n",
    "plt.title('Precio Medio por Barrio - CIUTAT VELLA')\n",
    "plt.xlabel('Barrio')\n",
    "plt.ylabel('Euros')\n",
    "plt.savefig(\"Barrios_ciutatvella.jpg\")"
   ]
  },
  {
   "cell_type": "markdown",
   "id": "8296cc9e",
   "metadata": {},
   "source": [
    "Podemos ver que la media de los valores no varía entre unos y otros, pero el Gótico sería el que tiene la media más alta entre los 4 barrios."
   ]
  }
 ],
 "metadata": {
  "kernelspec": {
   "display_name": "Python 3 (ipykernel)",
   "language": "python",
   "name": "python3"
  },
  "language_info": {
   "codemirror_mode": {
    "name": "ipython",
    "version": 3
   },
   "file_extension": ".py",
   "mimetype": "text/x-python",
   "name": "python",
   "nbconvert_exporter": "python",
   "pygments_lexer": "ipython3",
   "version": "3.10.5"
  }
 },
 "nbformat": 4,
 "nbformat_minor": 5
}
